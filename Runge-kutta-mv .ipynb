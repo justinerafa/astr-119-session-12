{
 "cells": [
  {
   "cell_type": "markdown",
   "metadata": {},
   "source": [
    "## Create a notebook to perform Runge-Kutta integration for multiple coupled variables"
   ]
  },
  {
   "cell_type": "code",
   "execution_count": null,
   "metadata": {
    "scrolled": false
   },
   "outputs": [],
   "source": [
    "%matplotlib inline \n",
    "import numpy as np \n",
    "import matplotlib.pyplot as plt"
   ]
  },
  {
   "cell_type": "markdown",
   "metadata": {},
   "source": [
    "## Define our coupled derivatives to integrate "
   ]
  },
  {
   "cell_type": "code",
   "execution_count": null,
   "metadata": {},
   "outputs": [],
   "source": [
    "def dydx(x,y):\n",
    "    #set the derivatives \n",
    "    #our equation is d^2y/dx^2 = y\n",
    "    #so we can wirte\n",
    "    #dy/dx= z\n",
    "    #dz/dx = -y\n",
    "    \n",
    "    #we will set y = y[0]\n",
    "    #we will set z = y[1]\n",
    "    \n",
    "    #declare an array \n",
    "    y_derivs = np.zeros(2)\n",
    "    \n",
    "    y_derivs[0] = y[1]\n",
    "    y_derive[1] = -1*y[0]\n",
    "    \n",
    "    return y_derivs"
   ]
  },
  {
   "cell_type": "markdown",
   "metadata": {},
   "source": [
    "## Define the 4th order Rk method "
   ]
  },
  {
   "cell_type": "code",
   "execution_count": null,
   "metadata": {},
   "outputs": [],
   "source": [
    "def rk4_mv_core(dydx,xi,yi,h):\n",
    "    \n",
    "    #declare k arrays\n",
    "    k1 = np.zeros(nv)\n",
    "    k2 = np.zeros(nv)\n",
    "    k3 = np.zeros(nv)\n",
    "    k4 = np.zeros(nv)\n",
    "    \n",
    "    #define xat 1/2 step\n",
    "    x_ipoh = xi + 0.5*h\n",
    "    \n",
    "    #define x at 1 step\n",
    "    x_ipo = xi+h\n",
    "    \n",
    "    #declare a temp y array \n",
    "    y_temp = np.zeros(nv)\n",
    "    \n",
    "    #get k1 values \n",
    "    y_derivs = dxdy(xi,yi)\n",
    "    k1 = h*yderivs[:]\n",
    "    \n",
    "    #get k2 values \n",
    "    y_temp[:] = yi[:]+0.5*k1[:]\n",
    "    y_derivs = dydx(x_ipoh, y_temp)\n",
    "    k2[:] = h*y_derives[:] \n",
    "    \n",
    "    #get k3 values \n",
    "    y_temp[:] = yi[:]+0.5*k2[:]\n",
    "    y_derivs = dydx(x_ipoh, y_temp)\n",
    "    k3[:] = h*y_derives[:] \n",
    "    \n",
    "    #get k4 values\n",
    "    y_temp[:] = yi[:]+0.5*k3[:]\n",
    "    y_derivs = dydx(x_ipoh, y_temp)\n",
    "    k4[:] = h*y_derives[:] \n",
    "    \n",
    "    #advance y by a step h \n",
    "    yipo = yi + (k1+2*k2 + 2*k3 + k4)/6\n",
    "    \n",
    "    return yipo"
   ]
  },
  {
   "cell_type": "code",
   "execution_count": null,
   "metadata": {},
   "outputs": [],
   "source": [
    "def rk4_mv_ad(dydx,x_i,y_i,nv,h,tol):\n",
    "    \n",
    "    #define safety scale \n",
    "    SAFETY = 0.9\n",
    "    H_NEW_FAC = 2.0\n",
    "    \n",
    "    #set a maximum number of iteration \n",
    "    imax = 10000\n",
    "    \n",
    "    #set an iteration variable \n",
    "    i = 0\n",
    "    \n",
    "    #create an error \n",
    "    Delta = np.full(nv,2*tol)\n",
    "    \n",
    "    #remember the step \n",
    "    h_step = h\n",
    "    \n",
    "    #adjust step\n",
    "    while(Delta.max()/tol > 1.0):\n",
    "        \n",
    "        #estimate our error by taking one step of size h\n",
    "        #vs two steps of size h/2\n",
    "        y_2 = rk4_mv_core(dydx,x_i, y_i,nv,h_step)\n",
    "        y_1 = rk4_mv_core(dydx,x_i,y_i, nv,0.5*h_step)\n",
    "        y_11 = rk4_mv_core(dydx,x_i+0.5*h_step,y_1,nv,0.5*h_step)\n",
    "        \n",
    "        #compute an error \n",
    "        Delta = np.fabs(y_2-y_11)\n",
    "        \n",
    "        #if the error is too large, take a smaller step \n",
    "        if(Delta.max()/tol>1.0):\n",
    "            \n",
    "            #our error is too large, decrease the step\n",
    "            h_step *= SAFETY * (Delta.max()/tol)**(-0.25)\n",
    "            \n",
    "        #check iteration\n",
    "        if(i>imax):\n",
    "            print('too many iterations in rk4_mv_ad()')\n",
    "            raise StopIteration('ending after i = ',i)\n",
    "            \n",
    "        #iterate \n",
    "        i += 1 \n",
    "        \n",
    "    #next time, try to take a bigger step \n",
    "    h_new = np.fmin(h_step * (delta.max()/tol)**(-0.9), h_step*H_NEW_FAC)\n",
    "    \n",
    "    #return the answer, a new step, and the stp we actually took \n",
    "    return y_2, h_new, h_step"
   ]
  },
  {
   "cell_type": "markdown",
   "metadata": {},
   "source": [
    "## Define a wrapper for RK4"
   ]
  },
  {
   "cell_type": "code",
   "execution_count": null,
   "metadata": {},
   "outputs": [],
   "source": [
    "def rk4_mv(dfdx,a,b,y_a,tol):\n",
    "    \n",
    "    #dfdx is the derivative wrt x\n",
    "    #a is the lower bound \n",
    "    #b is the upper bound \n",
    "    #y_a are the boundary conditions \n",
    "    #tol is the tolerance for integrating y \n",
    "    \n",
    "    #define our starting step \n",
    "    xi = a\n",
    "    yi = y_a.copy()\n",
    "    \n",
    "    #an initial step size == make very small \n",
    "    h = 1.0e-4 * (b-a)\n",
    "    \n",
    "    #set a maximum number of iterations \n",
    "    imax = 10000\n",
    "    \n",
    "    #set a iteration variable \n",
    "    i = 0\n",
    "    \n",
    "    #set the number of coupled odes to the \n",
    "    #size of y_a \n",
    "    nv = len(y_a)\n",
    "    \n",
    "    #set the initial conditions \n",
    "    x = np.full(1,a)\n",
    "    y = np.ful((1,nv),y_a)\n",
    "    \n",
    "    #set a flag \n",
    "    flag = 1 \n",
    "    \n",
    "    #loop unitl we reach the right side \n",
    "    while(flag):\n",
    "        \n",
    "        #calculate y_i+1 \n",
    "        yi_new, h_new, h_step = rk4_mv_ad(dydx,xi,yi,nv,h,tol)\n",
    "        \n",
    "        #update the step \n",
    "        h = h_new \n",
    "        \n",
    "        #prevent an overshoot \n",
    "        if(xi+h_step>b):\n",
    "            \n",
    "            #take a smaller step \n",
    "            h = b-xi\n",
    "            \n",
    "            #recalculate y_i+1\n",
    "            yi_new, h_new, h_step = rk4_mv_ad(dydx,xi, yi,nv,h,tol)\n",
    "            \n",
    "            #break\n",
    "            flag = 0"
   ]
  },
  {
   "cell_type": "code",
   "execution_count": null,
   "metadata": {},
   "outputs": [],
   "source": []
  }
 ],
 "metadata": {
  "kernelspec": {
   "display_name": "Python 3",
   "language": "python",
   "name": "python3"
  },
  "language_info": {
   "codemirror_mode": {
    "name": "ipython",
    "version": 3
   },
   "file_extension": ".py",
   "mimetype": "text/x-python",
   "name": "python",
   "nbconvert_exporter": "python",
   "pygments_lexer": "ipython3",
   "version": "3.6.5"
  }
 },
 "nbformat": 4,
 "nbformat_minor": 2
}
